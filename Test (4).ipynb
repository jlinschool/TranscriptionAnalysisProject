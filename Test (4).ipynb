{
 "cells": [
  {
   "cell_type": "code",
   "execution_count": 190,
   "id": "4347a3ad-5937-4e8a-9e3f-d494670df2a9",
   "metadata": {
    "tags": []
   },
   "outputs": [
    {
     "name": "stdout",
     "output_type": "stream",
     "text": [
      "make_bucket: image-test-claire\n",
      "move: ./sample_document.pdf to s3://image-test-claire/sample_document.pdf\n"
     ]
    }
   ],
   "source": [
    "!aws s3 mb s3://image-test-claire\n",
    "!aws s3 mv sample_document.pdf s3://image-test-claire"
   ]
  },
  {
   "cell_type": "code",
   "execution_count": 4,
   "id": "ea9c822e-967a-42a2-a548-1ea51a45c2cc",
   "metadata": {
    "tags": []
   },
   "outputs": [
    {
     "name": "stdout",
     "output_type": "stream",
     "text": [
      "2023-04-16 13:29:04     212074 test.pdf\n"
     ]
    }
   ],
   "source": [
    "!aws s3 ls image-test-claire"
   ]
  },
  {
   "cell_type": "code",
   "execution_count": 64,
   "id": "9aa1ccc4-025f-4c64-b265-2bbdeef56429",
   "metadata": {
    "tags": []
   },
   "outputs": [
    {
     "name": "stdout",
     "output_type": "stream",
     "text": [
      "Flowchart.png  Test.ipynb\tsample_document.pdf\n",
      "README.md      qtm350_data.pdf\ttest.pdf\n"
     ]
    }
   ],
   "source": [
    "!ls"
   ]
  },
  {
   "cell_type": "code",
   "execution_count": 3,
   "id": "4ddb909d-dc2a-4ba1-8551-aca3a73239fb",
   "metadata": {
    "tags": []
   },
   "outputs": [],
   "source": [
    "import boto3\n",
    "import json"
   ]
  },
  {
   "cell_type": "code",
   "execution_count": 4,
   "id": "6c583b75-8f06-4816-a29e-d69a1b185f26",
   "metadata": {
    "tags": []
   },
   "outputs": [],
   "source": [
    "textract = boto3.client('textract')\n",
    "#Document\n",
    "with open('sample_document.pdf', 'rb') as file:\n",
    "    pdf_bytes = file.read()"
   ]
  },
  {
   "cell_type": "code",
   "execution_count": 153,
   "id": "f62b9328-fbc0-4186-9719-8269ca713970",
   "metadata": {
    "tags": []
   },
   "outputs": [
    {
     "name": "stdout",
     "output_type": "stream",
     "text": [
      "Keyring is skipped due to an exception: 'keyring.backends'\n",
      "Requirement already satisfied: textract-trp in /opt/conda/lib/python3.7/site-packages (0.1.3)\n",
      "\u001b[33mWARNING: Running pip as the 'root' user can result in broken permissions and conflicting behaviour with the system package manager. It is recommended to use a virtual environment instead: https://pip.pypa.io/warnings/venv\u001b[0m\u001b[33m\n",
      "\u001b[0m\n",
      "\u001b[1m[\u001b[0m\u001b[34;49mnotice\u001b[0m\u001b[1;39;49m]\u001b[0m\u001b[39;49m A new release of pip available: \u001b[0m\u001b[31;49m22.3.1\u001b[0m\u001b[39;49m -> \u001b[0m\u001b[32;49m23.1\u001b[0m\n",
      "\u001b[1m[\u001b[0m\u001b[34;49mnotice\u001b[0m\u001b[1;39;49m]\u001b[0m\u001b[39;49m To update, run: \u001b[0m\u001b[32;49mpip install --upgrade pip\u001b[0m\n"
     ]
    }
   ],
   "source": [
    "!pip install textract-trp\n",
    "from trp import Document"
   ]
  },
  {
   "cell_type": "code",
   "execution_count": 38,
   "id": "f3b9e5b0-e860-48fa-93df-7f1469dec847",
   "metadata": {
    "tags": []
   },
   "outputs": [
    {
     "name": "stdout",
     "output_type": "stream",
     "text": [
      "Keyring is skipped due to an exception: 'keyring.backends'\n",
      "Requirement already satisfied: tabulate in /opt/conda/lib/python3.7/site-packages (0.9.0)\n",
      "\u001b[33mWARNING: Running pip as the 'root' user can result in broken permissions and conflicting behaviour with the system package manager. It is recommended to use a virtual environment instead: https://pip.pypa.io/warnings/venv\u001b[0m\u001b[33m\n",
      "\u001b[0m\n",
      "\u001b[1m[\u001b[0m\u001b[34;49mnotice\u001b[0m\u001b[1;39;49m]\u001b[0m\u001b[39;49m A new release of pip available: \u001b[0m\u001b[31;49m22.3.1\u001b[0m\u001b[39;49m -> \u001b[0m\u001b[32;49m23.1\u001b[0m\n",
      "\u001b[1m[\u001b[0m\u001b[34;49mnotice\u001b[0m\u001b[1;39;49m]\u001b[0m\u001b[39;49m To update, run: \u001b[0m\u001b[32;49mpip install --upgrade pip\u001b[0m\n"
     ]
    }
   ],
   "source": [
    "!pip install tabulate"
   ]
  },
  {
   "cell_type": "code",
   "execution_count": 125,
   "id": "7c788798-30e6-43c1-95d7-6b8bf9c84f80",
   "metadata": {
    "tags": []
   },
   "outputs": [],
   "source": [
    "# response "
   ]
  },
  {
   "cell_type": "code",
   "execution_count": 9,
   "id": "92f0df84-5601-4361-8ef8-6f81c4df8293",
   "metadata": {},
   "outputs": [],
   "source": [
    "try:\n",
    "    response = textract.start_document_text_detection(\n",
    "        DocumentLocation={'S3Object':{'Bucket':'image-test-claire', 'Name':'sample_document.pdf'}}\n",
    "        )\n",
    "except:\n",
    "    print(\"NA\")"
   ]
  },
  {
   "cell_type": "code",
   "execution_count": 12,
   "id": "b0b9587f-d0f8-4590-84df-b736af0ab9da",
   "metadata": {
    "tags": []
   },
   "outputs": [],
   "source": [
    "response=textract.get_document_text_detection(JobId='1bee1da6ede1d67bf1730f9ae286817c458974ef6aa3a3f1ff957d446049c9ee')"
   ]
  },
  {
   "cell_type": "code",
   "execution_count": 17,
   "id": "f7a501a2-ddd8-4acc-a2ec-d2650645b7cb",
   "metadata": {
    "tags": []
   },
   "outputs": [],
   "source": [
    "response2=textract.get_document_text_detection(JobId='1bee1da6ede1d67bf1730f9ae286817c458974ef6aa3a3f1ff957d446049c9ee',NextToken=response.get('NextToken', None))"
   ]
  },
  {
   "cell_type": "code",
   "execution_count": 19,
   "id": "1e2940db-ae17-4bf0-b06a-a589005a32da",
   "metadata": {
    "tags": []
   },
   "outputs": [],
   "source": [
    "response3=textract.get_document_text_detection(JobId='1bee1da6ede1d67bf1730f9ae286817c458974ef6aa3a3f1ff957d446049c9ee',NextToken=response2.get('NextToken', None))"
   ]
  },
  {
   "cell_type": "code",
   "execution_count": 21,
   "id": "2f0ee1c4-404c-4112-be8d-772936d8987f",
   "metadata": {
    "tags": []
   },
   "outputs": [],
   "source": [
    "response4=textract.get_document_text_detection(JobId='1bee1da6ede1d67bf1730f9ae286817c458974ef6aa3a3f1ff957d446049c9ee',NextToken=response3.get('NextToken', None))"
   ]
  },
  {
   "cell_type": "code",
   "execution_count": 22,
   "id": "7669efd3-d7ac-4420-9585-b48f77053824",
   "metadata": {
    "tags": []
   },
   "outputs": [],
   "source": [
    "response4=textract.get_document_text_detection(JobId='1bee1da6ede1d67bf1730f9ae286817c458974ef6aa3a3f1ff957d446049c9ee',NextToken=response3.get('NextToken', None))"
   ]
  },
  {
   "cell_type": "code",
   "execution_count": 23,
   "id": "ba8a2591-554a-4c30-b373-5da9dfe448a4",
   "metadata": {
    "tags": []
   },
   "outputs": [],
   "source": [
    "response5=textract.get_document_text_detection(JobId='1bee1da6ede1d67bf1730f9ae286817c458974ef6aa3a3f1ff957d446049c9ee',NextToken=response4.get('NextToken', None))"
   ]
  },
  {
   "cell_type": "code",
   "execution_count": 24,
   "id": "f361366c-c3e8-4b0e-8fb3-e946b3b7e05b",
   "metadata": {
    "tags": []
   },
   "outputs": [],
   "source": [
    "response6=textract.get_document_text_detection(JobId='1bee1da6ede1d67bf1730f9ae286817c458974ef6aa3a3f1ff957d446049c9ee',NextToken=response5.get('NextToken', None))"
   ]
  },
  {
   "cell_type": "code",
   "execution_count": 34,
   "id": "3fd42a95-9619-4ed7-a421-06cc3684da6d",
   "metadata": {
    "tags": []
   },
   "outputs": [],
   "source": [
    "lines = []\n",
    "Confidence=[]\n",
    "for block in response['Blocks']:\n",
    "    if block['BlockType'] == 'LINE':\n",
    "        lines.append(block['Text'])\n",
    "        Confidence.append(block['Confidence'])"
   ]
  },
  {
   "cell_type": "code",
   "execution_count": 35,
   "id": "a9259cf4-f4a6-4474-8589-cbf2c5760486",
   "metadata": {
    "tags": []
   },
   "outputs": [],
   "source": [
    "lines2 = []\n",
    "Confidence2=[]\n",
    "for block in response2['Blocks']:\n",
    "    if block['BlockType'] == 'LINE':\n",
    "        lines2.append(block['Text'])\n",
    "        Confidence2.append(block['Confidence'])"
   ]
  },
  {
   "cell_type": "code",
   "execution_count": 36,
   "id": "6fb92ff0-710c-4cc8-9c93-c5322f877ddd",
   "metadata": {
    "tags": []
   },
   "outputs": [],
   "source": [
    "lines3 = []\n",
    "Confidence3=[]\n",
    "for block in response3['Blocks']:\n",
    "    if block['BlockType'] == 'LINE':\n",
    "        lines3.append(block['Text'])\n",
    "        Confidence3.append(block['Confidence'])"
   ]
  },
  {
   "cell_type": "code",
   "execution_count": 37,
   "id": "428dda50-0ea3-4198-9bc1-184164779d8b",
   "metadata": {
    "tags": []
   },
   "outputs": [],
   "source": [
    "lines4 = []\n",
    "Confidence4=[]\n",
    "for block in response4['Blocks']:\n",
    "    if block['BlockType'] == 'LINE':\n",
    "        lines4.append(block['Text'])\n",
    "        Confidence4.append(block['Confidence'])"
   ]
  },
  {
   "cell_type": "code",
   "execution_count": 38,
   "id": "fa683ee4-d092-4d91-8b66-9102d2e1126b",
   "metadata": {
    "tags": []
   },
   "outputs": [],
   "source": [
    "lines5 = []\n",
    "Confidence5=[]\n",
    "for block in response5['Blocks']:\n",
    "    if block['BlockType'] == 'LINE':\n",
    "        lines5.append(block['Text'])\n",
    "        Confidence5.append(block['Confidence'])"
   ]
  },
  {
   "cell_type": "code",
   "execution_count": 39,
   "id": "4351b9f7-6efd-42b9-b94e-b351007f4549",
   "metadata": {
    "tags": []
   },
   "outputs": [],
   "source": [
    "lines6 = []\n",
    "Confidence6=[]\n",
    "for block in response6['Blocks']:\n",
    "    if block['BlockType'] == 'LINE':\n",
    "        lines6.append(block['Text'])\n",
    "        Confidence6.append(block['Confidence'])"
   ]
  },
  {
   "cell_type": "code",
   "execution_count": 40,
   "id": "fbeb1e11-de15-4f89-a23e-13c986f13c06",
   "metadata": {
    "tags": []
   },
   "outputs": [],
   "source": [
    "linestotal=lines+lines2+lines3+lines4+lines5+lines6"
   ]
  },
  {
   "cell_type": "code",
   "execution_count": 62,
   "id": "2604627a-bf2f-4c0a-b790-daaef65bb99b",
   "metadata": {
    "tags": []
   },
   "outputs": [
    {
     "name": "stdout",
     "output_type": "stream",
     "text": [
      "Felik Yang,BBA+QSS 2026\n"
     ]
    }
   ],
   "source": [
    "my_list = ['apple', 'banana', 'pears']\n",
    "\n",
    "# Find the index of \"apple\"\n",
    "index = linestotal.index(\"(ex. Saaya Morton, College 2023)\")\n",
    "\n",
    "# Get the element at the next index\n",
    "name = linestotal[index + 1]\n",
    "\n",
    "print(name)"
   ]
  },
  {
   "cell_type": "code",
   "execution_count": 56,
   "id": "1ca6b73c-ccea-4715-9af2-99c2ec4d5cb3",
   "metadata": {
    "tags": []
   },
   "outputs": [
    {
     "name": "stdout",
     "output_type": "stream",
     "text": [
      "['The quick brown fox jumps over the lazy dog.', 'Thequick brown fox jumps over the lazy day.', 'The quick brown fox jumps over the lazy dog.', 'The quick brown fox jumps over the lazy dog.', 'The quick brown fox jumps over the lazy dog.', 'The quick brown fox jumps over the lazy dog.', 'The quick brown fox jumps over the lazy dog.', 'The quick brown fox jumps over the lazy dog.', 'The quick brown fox jumps our the', 'The quick brown fox jumps over the lazy dog.', 'The quick brown fox jumps over the lazy dog.', 'The quick brown fox jumps over the lazy dog.', 'The quick brown fox jumps over the', 'The quick brown fox jumps over the lazy dog.', 'The quick brown fox jumps over the lazy dog.', 'The quick brown fox jumps over the lazy dog.', 'The quick brown fox jumps over the lazy dog.', 'The quick brown fox jumps over the lazy dog.', 'The quick brown fox jumps over the lazy dog.', 'The quick brown fox jumps over the lazy dog.', 'The quick brown fox jumps over the lazy dog.', 'The quick brown fox jumps over the lazy dog.', 'The quick brown fox Jumps over tle lazy dog.', 'The quick brown fox jumps over the lazy dog.', 'The quick brown fox jumps over the lazy', 'The quick brown fox jumps over the lazy dog.', 'The quick brown fox jumps over the lazy dog.', 'The quick brown fox jumps over the lazy dog.', 'The quick brown fox jumps over the lazy dog.', 'The quick brown fox jumps over the', 'The quick brown fox jumps over the lazy dog.', 'The quick brown fox jumps over the', 'The quick brown fox jumps over the lazy dog.', 'The quick brown fox jumps over the lazy dog.', 'The quick brown fox jumps over the lazy dog.', 'The quick brown fox jumps over the lazy dog.', 'The quick brown fox jumps over the lazy dog.', 'The quick brown fox jumps over the lazy dog.', 'The quick brown fox jumps over the lazy dog.', 'The quick brown fox jumps over the lazy dog.', 'The quick brown fox jumps over the lazy dog.', 'The quick brown fox jumps over the lazy dog.', 'The quick brown fox jumps over the lazy dog.', 'The quick brown fox jumps over the lazy dog.', 'The quick brown fox jumps over the lazy dog.', 'The quick brown fox jumps over the lazy dog.', 'The quick brown fox jumps over the lazy dog.', 'The quick brown fox jumps over the lazy dog.', 'The quick brown fox jumps over the lazy dog.', 'The quick brown fox jumps over the lazy dog.', 'The quick brown fox jumps over the lazy dog.', 'The quick brown fox jumps over the lazy dog.', 'The quick brown fox jumps over the lazy dog.', 'The quick brown fox jumps over the lazy dog.', 'The quick brown fox jumps over the lazy dog.', 'The quick brown fox jumps over the lazy dog.', 'The quick brown fox jumps over the lazy dog.', 'The quick brown fox jumps over the lazy dog.', 'The quick brown fox jumps over the lazy dog.', 'The quick brown fox jumps over the lazy dog.', 'The quick brown fox jumps over the lazy dog.', 'The quick brown fox jumps over the lazy dog.', 'The quick brown fox jumps over the lazy dog.', 'The quick brown fox jumps over the lazy dog.']\n"
     ]
    }
   ],
   "source": [
    "def contains_sentence(string):\n",
    "    return 'fox' in string\n",
    "\n",
    "# Filter list using filter() function\n",
    "filtered_list = list(filter(contains_sentence, linestotal))\n",
    "\n",
    "print(filtered_list)"
   ]
  },
  {
   "cell_type": "code",
   "execution_count": 57,
   "id": "971d811e-61de-4c75-84de-f88c51634e5f",
   "metadata": {
    "tags": []
   },
   "outputs": [
    {
     "name": "stdout",
     "output_type": "stream",
     "text": [
      "['Thequick brown fox jumps over the lazy day.', 'The quick brown fox jumps over the lazy dog.', 'The quick brown fox jumps over the lazy dog.', 'The quick brown fox jumps over the lazy dog.', 'The quick brown fox jumps over the lazy dog.', 'The quick brown fox jumps over the lazy dog.', 'The quick brown fox jumps over the lazy dog.', 'The quick brown fox jumps over the lazy dog.', 'The quick brown fox jumps over the lazy dog.', 'The quick brown fox jumps over the lazy dog.', 'The quick brown fox jumps over the lazy dog.', 'The quick brown fox jumps over the lazy dog.', 'The quick brown fox jumps over the lazy dog.', 'The quick brown fox jumps over the lazy dog.', 'The quick brown fox jumps over the', 'The quick brown fox jumps over the', 'The quick brown fox jumps over the lazy dog.', 'The quick brown fox jumps over the lazy dog.', 'The quick brown fox jumps over the lazy dog.', 'The quick brown fox jumps over the lazy dog.', 'The quick brown fox jumps over the lazy dog.', 'The quick brown fox jumps over the lazy dog.', 'The quick brown fox jumps over the lazy dog.', 'The quick brown fox jumps over the lazy dog.', 'The quick brown fox jumps over the lazy dog.', 'The quick brown fox jumps over the lazy dog.', 'The quick brown fox jumps over the lazy dog.', 'The quick brown fox jumps over the lazy dog.', 'The quick brown fox jumps over the lazy dog.', 'The quick brown fox jumps over the lazy dog.', 'The quick brown fox jumps over the lazy dog.', 'The quick brown fox jumps over the lazy dog.']\n"
     ]
    }
   ],
   "source": [
    "writting_result = filtered_list[1::2]\n",
    "print(writting_result)"
   ]
  },
  {
   "cell_type": "code",
   "execution_count": 58,
   "id": "668476b1-7055-4532-a5b4-e82119319177",
   "metadata": {
    "tags": []
   },
   "outputs": [
    {
     "name": "stdout",
     "output_type": "stream",
     "text": [
      "Thequick brown fox jumps over the lazy day. does not match the sample sentence.\n",
      "The quick brown fox jumps over the does not match the sample sentence.\n",
      "The quick brown fox jumps over the does not match the sample sentence.\n"
     ]
    }
   ],
   "source": [
    "correct_rate=0\n",
    "sample_sentence = \"The quick brown fox jumps over the lazy dog.\"\n",
    "# Loop through the sentences in the list\n",
    "for sentence in writting_result:\n",
    "    # Compare the sample sentence with the current sentence in the loop\n",
    "    if sentence == sample_sentence:\n",
    "        correct_rate=correct_rate+1\n",
    "    else:\n",
    "        print(f\"{sentence} does not match the sample sentence.\")      "
   ]
  },
  {
   "cell_type": "code",
   "execution_count": 60,
   "id": "80d8e1f0-f7ef-4a7e-9628-564b59e3db78",
   "metadata": {
    "tags": []
   },
   "outputs": [
    {
     "data": {
      "text/plain": [
       "29"
      ]
     },
     "execution_count": 60,
     "metadata": {},
     "output_type": "execute_result"
    }
   ],
   "source": [
    "len(writting_result)\n",
    "correct_rate"
   ]
  },
  {
   "cell_type": "code",
   "execution_count": 123,
   "id": "5d39c3c6-7c0f-4e14-81a0-cb28ae46f702",
   "metadata": {
    "tags": []
   },
   "outputs": [],
   "source": [
    "import tabulate"
   ]
  },
  {
   "cell_type": "code",
   "execution_count": 124,
   "id": "36a24286-361e-45c6-a9a6-4be12bde2658",
   "metadata": {
    "tags": []
   },
   "outputs": [
    {
     "name": "stdout",
     "output_type": "stream",
     "text": [
      "Text            Confidence\n",
      "------------  ------------\n",
      "Thequick           98.5362\n",
      "brown              99.6346\n",
      "fox                82.2872\n",
      "jumps              99.9096\n",
      "over               99.744\n",
      "the                90.7363\n",
      "lazyday.           64.6157\n",
      "Felik              65.462\n",
      "Yang,BBA+QSS       68.3844\n",
      "2026               99.9525\n"
     ]
    }
   ],
   "source": [
    "print(tabulate.tabulate(handwriting_blocks, headers='keys'))"
   ]
  },
  {
   "cell_type": "code",
   "execution_count": 144,
   "id": "4184a3ac-c25c-43cf-837b-fb4ffb5ac072",
   "metadata": {
    "collapsed": true,
    "jupyter": {
     "outputs_hidden": true,
     "source_hidden": true
    },
    "tags": []
   },
   "outputs": [
    {
     "ename": "UnsupportedDocumentException",
     "evalue": "An error occurred (UnsupportedDocumentException) when calling the AnalyzeDocument operation: Request has unsupported document format",
     "output_type": "error",
     "traceback": [
      "\u001b[0;31m---------------------------------------------------------------------------\u001b[0m",
      "\u001b[0;31mUnsupportedDocumentException\u001b[0m              Traceback (most recent call last)",
      "\u001b[0;32m<ipython-input-144-af3c167d53fa>\u001b[0m in \u001b[0;36m<module>\u001b[0;34m\u001b[0m\n\u001b[1;32m      6\u001b[0m \u001b[0;34m\u001b[0m\u001b[0m\n\u001b[1;32m      7\u001b[0m \u001b[0;31m# Extract handwriting blocks and their confidence scores from each page of the PDF\u001b[0m\u001b[0;34m\u001b[0m\u001b[0;34m\u001b[0m\u001b[0;34m\u001b[0m\u001b[0m\n\u001b[0;32m----> 8\u001b[0;31m \u001b[0mpages\u001b[0m \u001b[0;34m=\u001b[0m \u001b[0mtextract\u001b[0m\u001b[0;34m.\u001b[0m\u001b[0manalyze_document\u001b[0m\u001b[0;34m(\u001b[0m\u001b[0mDocument\u001b[0m\u001b[0;34m=\u001b[0m\u001b[0;34m{\u001b[0m\u001b[0;34m'Bytes'\u001b[0m\u001b[0;34m:\u001b[0m \u001b[0mpdf_bytes\u001b[0m\u001b[0;34m}\u001b[0m\u001b[0;34m,\u001b[0m \u001b[0mFeatureTypes\u001b[0m\u001b[0;34m=\u001b[0m\u001b[0;34m[\u001b[0m\u001b[0;34m'FORMS'\u001b[0m\u001b[0;34m,\u001b[0m \u001b[0;34m'TABLES'\u001b[0m\u001b[0;34m,\u001b[0m \u001b[0;34m'SIGNATURES'\u001b[0m\u001b[0;34m]\u001b[0m\u001b[0;34m)\u001b[0m\u001b[0;34m.\u001b[0m\u001b[0mget\u001b[0m\u001b[0;34m(\u001b[0m\u001b[0;34m'Blocks'\u001b[0m\u001b[0;34m)\u001b[0m\u001b[0;34m\u001b[0m\u001b[0;34m\u001b[0m\u001b[0m\n\u001b[0m\u001b[1;32m      9\u001b[0m \u001b[0mhandwriting_blocks\u001b[0m \u001b[0;34m=\u001b[0m \u001b[0;34m[\u001b[0m\u001b[0;34m]\u001b[0m\u001b[0;34m\u001b[0m\u001b[0;34m\u001b[0m\u001b[0m\n\u001b[1;32m     10\u001b[0m \u001b[0;32mfor\u001b[0m \u001b[0mi\u001b[0m\u001b[0;34m,\u001b[0m \u001b[0mpage\u001b[0m \u001b[0;32min\u001b[0m \u001b[0menumerate\u001b[0m\u001b[0;34m(\u001b[0m\u001b[0mpages\u001b[0m\u001b[0;34m)\u001b[0m\u001b[0;34m:\u001b[0m\u001b[0;34m\u001b[0m\u001b[0;34m\u001b[0m\u001b[0m\n",
      "\u001b[0;32m/opt/conda/lib/python3.7/site-packages/botocore/client.py\u001b[0m in \u001b[0;36m_api_call\u001b[0;34m(self, *args, **kwargs)\u001b[0m\n\u001b[1;32m    528\u001b[0m                 )\n\u001b[1;32m    529\u001b[0m             \u001b[0;31m# The \"self\" in this scope is referring to the BaseClient.\u001b[0m\u001b[0;34m\u001b[0m\u001b[0;34m\u001b[0m\u001b[0;34m\u001b[0m\u001b[0m\n\u001b[0;32m--> 530\u001b[0;31m             \u001b[0;32mreturn\u001b[0m \u001b[0mself\u001b[0m\u001b[0;34m.\u001b[0m\u001b[0m_make_api_call\u001b[0m\u001b[0;34m(\u001b[0m\u001b[0moperation_name\u001b[0m\u001b[0;34m,\u001b[0m \u001b[0mkwargs\u001b[0m\u001b[0;34m)\u001b[0m\u001b[0;34m\u001b[0m\u001b[0;34m\u001b[0m\u001b[0m\n\u001b[0m\u001b[1;32m    531\u001b[0m \u001b[0;34m\u001b[0m\u001b[0m\n\u001b[1;32m    532\u001b[0m         \u001b[0m_api_call\u001b[0m\u001b[0;34m.\u001b[0m\u001b[0m__name__\u001b[0m \u001b[0;34m=\u001b[0m \u001b[0mstr\u001b[0m\u001b[0;34m(\u001b[0m\u001b[0mpy_operation_name\u001b[0m\u001b[0;34m)\u001b[0m\u001b[0;34m\u001b[0m\u001b[0;34m\u001b[0m\u001b[0m\n",
      "\u001b[0;32m/opt/conda/lib/python3.7/site-packages/botocore/client.py\u001b[0m in \u001b[0;36m_make_api_call\u001b[0;34m(self, operation_name, api_params)\u001b[0m\n\u001b[1;32m    958\u001b[0m             \u001b[0merror_code\u001b[0m \u001b[0;34m=\u001b[0m \u001b[0mparsed_response\u001b[0m\u001b[0;34m.\u001b[0m\u001b[0mget\u001b[0m\u001b[0;34m(\u001b[0m\u001b[0;34m\"Error\"\u001b[0m\u001b[0;34m,\u001b[0m \u001b[0;34m{\u001b[0m\u001b[0;34m}\u001b[0m\u001b[0;34m)\u001b[0m\u001b[0;34m.\u001b[0m\u001b[0mget\u001b[0m\u001b[0;34m(\u001b[0m\u001b[0;34m\"Code\"\u001b[0m\u001b[0;34m)\u001b[0m\u001b[0;34m\u001b[0m\u001b[0;34m\u001b[0m\u001b[0m\n\u001b[1;32m    959\u001b[0m             \u001b[0merror_class\u001b[0m \u001b[0;34m=\u001b[0m \u001b[0mself\u001b[0m\u001b[0;34m.\u001b[0m\u001b[0mexceptions\u001b[0m\u001b[0;34m.\u001b[0m\u001b[0mfrom_code\u001b[0m\u001b[0;34m(\u001b[0m\u001b[0merror_code\u001b[0m\u001b[0;34m)\u001b[0m\u001b[0;34m\u001b[0m\u001b[0;34m\u001b[0m\u001b[0m\n\u001b[0;32m--> 960\u001b[0;31m             \u001b[0;32mraise\u001b[0m \u001b[0merror_class\u001b[0m\u001b[0;34m(\u001b[0m\u001b[0mparsed_response\u001b[0m\u001b[0;34m,\u001b[0m \u001b[0moperation_name\u001b[0m\u001b[0;34m)\u001b[0m\u001b[0;34m\u001b[0m\u001b[0;34m\u001b[0m\u001b[0m\n\u001b[0m\u001b[1;32m    961\u001b[0m         \u001b[0;32melse\u001b[0m\u001b[0;34m:\u001b[0m\u001b[0;34m\u001b[0m\u001b[0;34m\u001b[0m\u001b[0m\n\u001b[1;32m    962\u001b[0m             \u001b[0;32mreturn\u001b[0m \u001b[0mparsed_response\u001b[0m\u001b[0;34m\u001b[0m\u001b[0;34m\u001b[0m\u001b[0m\n",
      "\u001b[0;31mUnsupportedDocumentException\u001b[0m: An error occurred (UnsupportedDocumentException) when calling the AnalyzeDocument operation: Request has unsupported document format"
     ]
    }
   ],
   "source": [
    "\n",
    "import json\n",
    "\n",
    "# Replace 'file.pdf' with the path to your PDF file\n",
    "with open('sample_document.pdf', 'rb') as f:\n",
    "    pdf_bytes = f.read()\n",
    "\n",
    "# Extract handwriting blocks and their confidence scores from each page of the PDF\n",
    "pages = textract.analyze_document(Document={'Bytes': pdf_bytes}, FeatureTypes=['FORMS', 'TABLES', 'SIGNATURES']).get('Blocks')\n",
    "handwriting_blocks = []\n",
    "for i, page in enumerate(pages):\n",
    "    if page['BlockType'] == 'WORD' and page['TextType'] == 'HANDWRITING':\n",
    "        handwriting_blocks.append({\n",
    "            'Page': i+1,\n",
    "            'Text': page['Text'],\n",
    "            'Confidence': page['Confidence']\n",
    "        })\n",
    "\n",
    "# # Print out the handwriting blocks and their confidence scores for each page\n",
    "# for block in handwriting_blocks:\n",
    "#     print(f\"Page {block['Page']}: '{block['Text']}' (confidence: {block['Confidence']})\")\n"
   ]
  },
  {
   "cell_type": "code",
   "execution_count": 167,
   "id": "9614ede1-ffea-4d1d-953b-0c4d94d03949",
   "metadata": {
    "collapsed": true,
    "jupyter": {
     "outputs_hidden": true,
     "source_hidden": true
    },
    "tags": []
   },
   "outputs": [
    {
     "name": "stdout",
     "output_type": "stream",
     "text": [
      "Keyring is skipped due to an exception: 'keyring.backends'\n",
      "Requirement already satisfied: PyPDF2 in /opt/conda/lib/python3.7/site-packages (3.0.1)\n",
      "Requirement already satisfied: typing_extensions>=3.10.0.0 in /opt/conda/lib/python3.7/site-packages (from PyPDF2) (4.4.0)\n",
      "\u001b[33mWARNING: Running pip as the 'root' user can result in broken permissions and conflicting behaviour with the system package manager. It is recommended to use a virtual environment instead: https://pip.pypa.io/warnings/venv\u001b[0m\u001b[33m\n",
      "\u001b[0m\n",
      "\u001b[1m[\u001b[0m\u001b[34;49mnotice\u001b[0m\u001b[1;39;49m]\u001b[0m\u001b[39;49m A new release of pip available: \u001b[0m\u001b[31;49m22.3.1\u001b[0m\u001b[39;49m -> \u001b[0m\u001b[32;49m23.1\u001b[0m\n",
      "\u001b[1m[\u001b[0m\u001b[34;49mnotice\u001b[0m\u001b[1;39;49m]\u001b[0m\u001b[39;49m To update, run: \u001b[0m\u001b[32;49mpip install --upgrade pip\u001b[0m\n"
     ]
    }
   ],
   "source": [
    "!pip install PyPDF2\n",
    "import io\n",
    "import PyPDF2"
   ]
  },
  {
   "cell_type": "code",
   "execution_count": 172,
   "id": "67cb9fc2-dfae-4335-912a-0b4633d19875",
   "metadata": {
    "jupyter": {
     "source_hidden": true
    },
    "tags": []
   },
   "outputs": [],
   "source": [
    "import PyPDF2\n",
    "\n",
    "# Open the PDF file in binary mode\n",
    "with open('sample_document.pdf', 'rb') as file:\n",
    "    # Create a PDF reader object\n",
    "    reader = PyPDF2.PdfReader(file)\n",
    "\n",
    "    # Get the total number of pages\n",
    "    num_pages = len(reader.pages)\n",
    "\n",
    "    # Loop through each page and extract the text\n",
    "    for page_num in range(num_pages):\n",
    "        page = reader.pages[page_num]\n",
    "        text = page.extract_text()"
   ]
  },
  {
   "cell_type": "code",
   "execution_count": 171,
   "id": "4943bb53-350f-434b-ac4f-132142ca0155",
   "metadata": {
    "collapsed": true,
    "jupyter": {
     "outputs_hidden": true
    },
    "tags": []
   },
   "outputs": [
    {
     "ename": "UnsupportedDocumentException",
     "evalue": "An error occurred (UnsupportedDocumentException) when calling the AnalyzeDocument operation: Request has unsupported document format",
     "output_type": "error",
     "traceback": [
      "\u001b[0;31m---------------------------------------------------------------------------\u001b[0m",
      "\u001b[0;31mUnsupportedDocumentException\u001b[0m              Traceback (most recent call last)",
      "\u001b[0;32m<ipython-input-171-1600c272eca7>\u001b[0m in \u001b[0;36m<module>\u001b[0;34m\u001b[0m\n\u001b[1;32m      3\u001b[0m \u001b[0;32mfor\u001b[0m \u001b[0mpage_num\u001b[0m \u001b[0;32min\u001b[0m \u001b[0mrange\u001b[0m\u001b[0;34m(\u001b[0m\u001b[0mnum_pages\u001b[0m\u001b[0;34m)\u001b[0m\u001b[0;34m:\u001b[0m\u001b[0;34m\u001b[0m\u001b[0;34m\u001b[0m\u001b[0m\n\u001b[1;32m      4\u001b[0m     \u001b[0mpage_bytes\u001b[0m \u001b[0;34m=\u001b[0m \u001b[0mreader\u001b[0m\u001b[0;34m.\u001b[0m\u001b[0mpages\u001b[0m\u001b[0;34m[\u001b[0m\u001b[0mpage_num\u001b[0m\u001b[0;34m]\u001b[0m\u001b[0;34m.\u001b[0m\u001b[0mextract_text\u001b[0m\u001b[0;34m(\u001b[0m\u001b[0;34m)\u001b[0m\u001b[0;34m.\u001b[0m\u001b[0mencode\u001b[0m\u001b[0;34m(\u001b[0m\u001b[0;34m'utf-8'\u001b[0m\u001b[0;34m)\u001b[0m\u001b[0;34m\u001b[0m\u001b[0;34m\u001b[0m\u001b[0m\n\u001b[0;32m----> 5\u001b[0;31m     \u001b[0mpage_data\u001b[0m \u001b[0;34m=\u001b[0m \u001b[0mtextract\u001b[0m\u001b[0;34m.\u001b[0m\u001b[0manalyze_document\u001b[0m\u001b[0;34m(\u001b[0m\u001b[0mDocument\u001b[0m\u001b[0;34m=\u001b[0m\u001b[0;34m{\u001b[0m\u001b[0;34m'Bytes'\u001b[0m\u001b[0;34m:\u001b[0m \u001b[0mpage_bytes\u001b[0m\u001b[0;34m}\u001b[0m\u001b[0;34m,\u001b[0m \u001b[0mFeatureTypes\u001b[0m\u001b[0;34m=\u001b[0m\u001b[0;34m[\u001b[0m\u001b[0;34m'SIGNATURES'\u001b[0m\u001b[0;34m]\u001b[0m\u001b[0;34m)\u001b[0m\u001b[0;34m\u001b[0m\u001b[0;34m\u001b[0m\u001b[0m\n\u001b[0m\u001b[1;32m      6\u001b[0m     \u001b[0mhandwriting_data\u001b[0m\u001b[0;34m.\u001b[0m\u001b[0mappend\u001b[0m\u001b[0;34m(\u001b[0m\u001b[0mpage_data\u001b[0m\u001b[0;34m[\u001b[0m\u001b[0;34m'Blocks'\u001b[0m\u001b[0;34m]\u001b[0m\u001b[0;34m)\u001b[0m\u001b[0;34m\u001b[0m\u001b[0;34m\u001b[0m\u001b[0m\n",
      "\u001b[0;32m/opt/conda/lib/python3.7/site-packages/botocore/client.py\u001b[0m in \u001b[0;36m_api_call\u001b[0;34m(self, *args, **kwargs)\u001b[0m\n\u001b[1;32m    528\u001b[0m                 )\n\u001b[1;32m    529\u001b[0m             \u001b[0;31m# The \"self\" in this scope is referring to the BaseClient.\u001b[0m\u001b[0;34m\u001b[0m\u001b[0;34m\u001b[0m\u001b[0;34m\u001b[0m\u001b[0m\n\u001b[0;32m--> 530\u001b[0;31m             \u001b[0;32mreturn\u001b[0m \u001b[0mself\u001b[0m\u001b[0;34m.\u001b[0m\u001b[0m_make_api_call\u001b[0m\u001b[0;34m(\u001b[0m\u001b[0moperation_name\u001b[0m\u001b[0;34m,\u001b[0m \u001b[0mkwargs\u001b[0m\u001b[0;34m)\u001b[0m\u001b[0;34m\u001b[0m\u001b[0;34m\u001b[0m\u001b[0m\n\u001b[0m\u001b[1;32m    531\u001b[0m \u001b[0;34m\u001b[0m\u001b[0m\n\u001b[1;32m    532\u001b[0m         \u001b[0m_api_call\u001b[0m\u001b[0;34m.\u001b[0m\u001b[0m__name__\u001b[0m \u001b[0;34m=\u001b[0m \u001b[0mstr\u001b[0m\u001b[0;34m(\u001b[0m\u001b[0mpy_operation_name\u001b[0m\u001b[0;34m)\u001b[0m\u001b[0;34m\u001b[0m\u001b[0;34m\u001b[0m\u001b[0m\n",
      "\u001b[0;32m/opt/conda/lib/python3.7/site-packages/botocore/client.py\u001b[0m in \u001b[0;36m_make_api_call\u001b[0;34m(self, operation_name, api_params)\u001b[0m\n\u001b[1;32m    958\u001b[0m             \u001b[0merror_code\u001b[0m \u001b[0;34m=\u001b[0m \u001b[0mparsed_response\u001b[0m\u001b[0;34m.\u001b[0m\u001b[0mget\u001b[0m\u001b[0;34m(\u001b[0m\u001b[0;34m\"Error\"\u001b[0m\u001b[0;34m,\u001b[0m \u001b[0;34m{\u001b[0m\u001b[0;34m}\u001b[0m\u001b[0;34m)\u001b[0m\u001b[0;34m.\u001b[0m\u001b[0mget\u001b[0m\u001b[0;34m(\u001b[0m\u001b[0;34m\"Code\"\u001b[0m\u001b[0;34m)\u001b[0m\u001b[0;34m\u001b[0m\u001b[0;34m\u001b[0m\u001b[0m\n\u001b[1;32m    959\u001b[0m             \u001b[0merror_class\u001b[0m \u001b[0;34m=\u001b[0m \u001b[0mself\u001b[0m\u001b[0;34m.\u001b[0m\u001b[0mexceptions\u001b[0m\u001b[0;34m.\u001b[0m\u001b[0mfrom_code\u001b[0m\u001b[0;34m(\u001b[0m\u001b[0merror_code\u001b[0m\u001b[0;34m)\u001b[0m\u001b[0;34m\u001b[0m\u001b[0;34m\u001b[0m\u001b[0m\n\u001b[0;32m--> 960\u001b[0;31m             \u001b[0;32mraise\u001b[0m \u001b[0merror_class\u001b[0m\u001b[0;34m(\u001b[0m\u001b[0mparsed_response\u001b[0m\u001b[0;34m,\u001b[0m \u001b[0moperation_name\u001b[0m\u001b[0;34m)\u001b[0m\u001b[0;34m\u001b[0m\u001b[0;34m\u001b[0m\u001b[0m\n\u001b[0m\u001b[1;32m    961\u001b[0m         \u001b[0;32melse\u001b[0m\u001b[0;34m:\u001b[0m\u001b[0;34m\u001b[0m\u001b[0;34m\u001b[0m\u001b[0m\n\u001b[1;32m    962\u001b[0m             \u001b[0;32mreturn\u001b[0m \u001b[0mparsed_response\u001b[0m\u001b[0;34m\u001b[0m\u001b[0;34m\u001b[0m\u001b[0m\n",
      "\u001b[0;31mUnsupportedDocumentException\u001b[0m: An error occurred (UnsupportedDocumentException) when calling the AnalyzeDocument operation: Request has unsupported document format"
     ]
    }
   ],
   "source": []
  },
  {
   "cell_type": "code",
   "execution_count": 5,
   "id": "b91861a1-fe82-4064-80f0-ee665ebc2640",
   "metadata": {
    "tags": []
   },
   "outputs": [],
   "source": [
    "response3 = textract.start_document_text_detection(\n",
    "    DocumentLocation={\n",
    "        'S3Object': {\n",
    "            'Bucket': 'image-test-claire',\n",
    "            'Name': 'sample_document.pdf'\n",
    "        }\n",
    "    }\n",
    ")\n"
   ]
  },
  {
   "cell_type": "code",
   "execution_count": 6,
   "id": "9453e0f0-3be1-4951-b420-5eb9b67d4ce9",
   "metadata": {
    "tags": []
   },
   "outputs": [
    {
     "data": {
      "text/plain": [
       "{'JobId': '10303a9396a34f1564ea1f570ffc7a93da639b4f194d2dfe80dd6feaeb255f72',\n",
       " 'ResponseMetadata': {'RequestId': '15020f0a-23a2-4493-9596-4d4ee2e8debc',\n",
       "  'HTTPStatusCode': 200,\n",
       "  'HTTPHeaders': {'x-amzn-requestid': '15020f0a-23a2-4493-9596-4d4ee2e8debc',\n",
       "   'content-type': 'application/x-amz-json-1.1',\n",
       "   'content-length': '76',\n",
       "   'date': 'Tue, 18 Apr 2023 19:03:55 GMT'},\n",
       "  'RetryAttempts': 0}}"
      ]
     },
     "execution_count": 6,
     "metadata": {},
     "output_type": "execute_result"
    }
   ],
   "source": [
    "response3"
   ]
  },
  {
   "cell_type": "code",
   "execution_count": 14,
   "id": "9d1ed58f-a79d-4c16-9a80-8c99046d6b9f",
   "metadata": {},
   "outputs": [],
   "source": [
    "# # Loop through the results and retrieve all pages\n",
    "# pages = []\n",
    "# next_token = response3.get('NextToken', None)\n",
    "\n",
    "# while True:\n",
    "#     if next_token:\n",
    "#         response3 = textract.get_document_text_detection(JobId='10303a9396a34f1564ea1f570ffc7a93da639b4f194d2dfe80dd6feaeb255f72', NextToken=next_token)\n",
    "#     else:\n",
    "#         response3 = textract.get_document_text_detection(JobId='10303a9396a34f1564ea1f570ffc7a93da639b4f194d2dfe80dd6feaeb255f72')"
   ]
  },
  {
   "cell_type": "code",
   "execution_count": null,
   "id": "0d13f2c3-fb8d-4bda-b3bf-e642fb2be45c",
   "metadata": {},
   "outputs": [],
   "source": [
    "handwriting_blocks"
   ]
  },
  {
   "cell_type": "code",
   "execution_count": null,
   "id": "044afde7-6cf7-4b5e-87cb-8d8d1d624e23",
   "metadata": {},
   "outputs": [],
   "source": []
  }
 ],
 "metadata": {
  "instance_type": "ml.t3.medium",
  "kernelspec": {
   "display_name": "Python 3 (Data Science)",
   "language": "python",
   "name": "python3__SAGEMAKER_INTERNAL__arn:aws:sagemaker:us-east-1:081325390199:image/datascience-1.0"
  },
  "language_info": {
   "codemirror_mode": {
    "name": "ipython",
    "version": 3
   },
   "file_extension": ".py",
   "mimetype": "text/x-python",
   "name": "python",
   "nbconvert_exporter": "python",
   "pygments_lexer": "ipython3",
   "version": "3.7.10"
  }
 },
 "nbformat": 4,
 "nbformat_minor": 5
}
