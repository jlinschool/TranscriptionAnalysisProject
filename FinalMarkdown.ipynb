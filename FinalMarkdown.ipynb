{
 "cells": [
  {
   "cell_type": "code",
   "execution_count": 190,
   "id": "4347a3ad-5937-4e8a-9e3f-d494670df2a9",
   "metadata": {
    "tags": []
   },
   "outputs": [
    {
     "name": "stdout",
     "output_type": "stream",
     "text": [
      "make_bucket: image-test-claire\n",
      "move: ./sample_document.pdf to s3://image-test-claire/sample_document.pdf\n"
     ]
    }
   ],
   "source": [
    "!aws s3 mb s3://image-test-claire\n",
    "!aws s3 mv sample_document.pdf s3://image-test-claire"
   ]
  },
  {
   "cell_type": "code",
   "execution_count": 4,
   "id": "ea9c822e-967a-42a2-a548-1ea51a45c2cc",
   "metadata": {
    "tags": []
   },
   "outputs": [
    {
     "name": "stdout",
     "output_type": "stream",
     "text": [
      "2023-04-16 13:29:04     212074 test.pdf\n"
     ]
    }
   ],
   "source": [
    "!aws s3 ls image-test-claire"
   ]
  },
  {
   "cell_type": "code",
   "execution_count": 64,
   "id": "9aa1ccc4-025f-4c64-b265-2bbdeef56429",
   "metadata": {
    "tags": []
   },
   "outputs": [
    {
     "name": "stdout",
     "output_type": "stream",
     "text": [
      "Flowchart.png  Test.ipynb\tsample_document.pdf\n",
      "README.md      qtm350_data.pdf\ttest.pdf\n"
     ]
    }
   ],
   "source": [
    "!ls"
   ]
  },
  {
   "cell_type": "code",
   "execution_count": 3,
   "id": "4ddb909d-dc2a-4ba1-8551-aca3a73239fb",
   "metadata": {
    "tags": []
   },
   "outputs": [],
   "source": [
    "import boto3\n",
    "import json"
   ]
  },
  {
   "cell_type": "code",
   "execution_count": 4,
   "id": "6c583b75-8f06-4816-a29e-d69a1b185f26",
   "metadata": {
    "tags": []
   },
   "outputs": [],
   "source": [
    "textract = boto3.client('textract')\n",
    "#Document\n",
    "with open('sample_document.pdf', 'rb') as file:\n",
    "    pdf_bytes = file.read()"
   ]
  },
  {
   "cell_type": "code",
   "execution_count": 153,
   "id": "f62b9328-fbc0-4186-9719-8269ca713970",
   "metadata": {
    "tags": []
   },
   "outputs": [
    {
     "name": "stdout",
     "output_type": "stream",
     "text": [
      "Keyring is skipped due to an exception: 'keyring.backends'\n",
      "Requirement already satisfied: textract-trp in /opt/conda/lib/python3.7/site-packages (0.1.3)\n",
      "\u001b[33mWARNING: Running pip as the 'root' user can result in broken permissions and conflicting behaviour with the system package manager. It is recommended to use a virtual environment instead: https://pip.pypa.io/warnings/venv\u001b[0m\u001b[33m\n",
      "\u001b[0m\n",
      "\u001b[1m[\u001b[0m\u001b[34;49mnotice\u001b[0m\u001b[1;39;49m]\u001b[0m\u001b[39;49m A new release of pip available: \u001b[0m\u001b[31;49m22.3.1\u001b[0m\u001b[39;49m -> \u001b[0m\u001b[32;49m23.1\u001b[0m\n",
      "\u001b[1m[\u001b[0m\u001b[34;49mnotice\u001b[0m\u001b[1;39;49m]\u001b[0m\u001b[39;49m To update, run: \u001b[0m\u001b[32;49mpip install --upgrade pip\u001b[0m\n"
     ]
    }
   ],
   "source": [
    "!pip install textract-trp\n",
    "from trp import Document"
   ]
  },
  {
   "cell_type": "code",
   "execution_count": 38,
   "id": "f3b9e5b0-e860-48fa-93df-7f1469dec847",
   "metadata": {
    "tags": []
   },
   "outputs": [
    {
     "name": "stdout",
     "output_type": "stream",
     "text": [
      "Keyring is skipped due to an exception: 'keyring.backends'\n",
      "Requirement already satisfied: tabulate in /opt/conda/lib/python3.7/site-packages (0.9.0)\n",
      "\u001b[33mWARNING: Running pip as the 'root' user can result in broken permissions and conflicting behaviour with the system package manager. It is recommended to use a virtual environment instead: https://pip.pypa.io/warnings/venv\u001b[0m\u001b[33m\n",
      "\u001b[0m\n",
      "\u001b[1m[\u001b[0m\u001b[34;49mnotice\u001b[0m\u001b[1;39;49m]\u001b[0m\u001b[39;49m A new release of pip available: \u001b[0m\u001b[31;49m22.3.1\u001b[0m\u001b[39;49m -> \u001b[0m\u001b[32;49m23.1\u001b[0m\n",
      "\u001b[1m[\u001b[0m\u001b[34;49mnotice\u001b[0m\u001b[1;39;49m]\u001b[0m\u001b[39;49m To update, run: \u001b[0m\u001b[32;49mpip install --upgrade pip\u001b[0m\n"
     ]
    }
   ],
   "source": [
    "!pip install tabulate"
   ]
  },
  {
   "cell_type": "code",
   "execution_count": 125,
   "id": "7c788798-30e6-43c1-95d7-6b8bf9c84f80",
   "metadata": {
    "tags": []
   },
   "outputs": [],
   "source": [
    "# response "
   ]
  },
  {
   "cell_type": "code",
   "execution_count": 9,
   "id": "92f0df84-5601-4361-8ef8-6f81c4df8293",
   "metadata": {},
   "outputs": [],
   "source": [
    "try:\n",
    "    response = textract.start_document_text_detection(\n",
    "        DocumentLocation={'S3Object':{'Bucket':'image-test-claire', 'Name':'sample_document.pdf'}}\n",
    "        )\n",
    "except:\n",
    "    print(\"NA\")"
   ]
  },
  {
   "cell_type": "code",
   "execution_count": 12,
   "id": "b0b9587f-d0f8-4590-84df-b736af0ab9da",
   "metadata": {
    "tags": []
   },
   "outputs": [],
   "source": [
    "response=textract.get_document_text_detection(JobId='1bee1da6ede1d67bf1730f9ae286817c458974ef6aa3a3f1ff957d446049c9ee')"
   ]
  },
  {
   "cell_type": "code",
   "execution_count": 17,
   "id": "f7a501a2-ddd8-4acc-a2ec-d2650645b7cb",
   "metadata": {
    "tags": []
   },
   "outputs": [],
   "source": [
    "response2=textract.get_document_text_detection(JobId='1bee1da6ede1d67bf1730f9ae286817c458974ef6aa3a3f1ff957d446049c9ee',NextToken=response.get('NextToken', None))"
   ]
  },
  {
   "cell_type": "code",
   "execution_count": 19,
   "id": "1e2940db-ae17-4bf0-b06a-a589005a32da",
   "metadata": {
    "tags": []
   },
   "outputs": [],
   "source": [
    "response3=textract.get_document_text_detection(JobId='1bee1da6ede1d67bf1730f9ae286817c458974ef6aa3a3f1ff957d446049c9ee',NextToken=response2.get('NextToken', None))"
   ]
  },
  {
   "cell_type": "code",
   "execution_count": 21,
   "id": "2f0ee1c4-404c-4112-be8d-772936d8987f",
   "metadata": {
    "tags": []
   },
   "outputs": [],
   "source": [
    "response4=textract.get_document_text_detection(JobId='1bee1da6ede1d67bf1730f9ae286817c458974ef6aa3a3f1ff957d446049c9ee',NextToken=response3.get('NextToken', None))"
   ]
  },
  {
   "cell_type": "code",
   "execution_count": 22,
   "id": "7669efd3-d7ac-4420-9585-b48f77053824",
   "metadata": {
    "tags": []
   },
   "outputs": [],
   "source": [
    "response4=textract.get_document_text_detection(JobId='1bee1da6ede1d67bf1730f9ae286817c458974ef6aa3a3f1ff957d446049c9ee',NextToken=response3.get('NextToken', None))"
   ]
  },
  {
   "cell_type": "code",
   "execution_count": 23,
   "id": "ba8a2591-554a-4c30-b373-5da9dfe448a4",
   "metadata": {
    "tags": []
   },
   "outputs": [],
   "source": [
    "response5=textract.get_document_text_detection(JobId='1bee1da6ede1d67bf1730f9ae286817c458974ef6aa3a3f1ff957d446049c9ee',NextToken=response4.get('NextToken', None))"
   ]
  },
  {
   "cell_type": "code",
   "execution_count": 24,
   "id": "f361366c-c3e8-4b0e-8fb3-e946b3b7e05b",
   "metadata": {
    "tags": []
   },
   "outputs": [],
   "source": [
    "response6=textract.get_document_text_detection(JobId='1bee1da6ede1d67bf1730f9ae286817c458974ef6aa3a3f1ff957d446049c9ee',NextToken=response5.get('NextToken', None))"
   ]
  },
  {
   "cell_type": "code",
   "execution_count": 34,
   "id": "3fd42a95-9619-4ed7-a421-06cc3684da6d",
   "metadata": {
    "tags": []
   },
   "outputs": [],
   "source": [
    "lines = []\n",
    "Confidence=[]\n",
    "for block in response['Blocks']:\n",
    "    if block['BlockType'] == 'LINE':\n",
    "        lines.append(block['Text'])\n",
    "        Confidence.append(block['Confidence'])"
   ]
  },
  {
   "cell_type": "code",
   "execution_count": 35,
   "id": "a9259cf4-f4a6-4474-8589-cbf2c5760486",
   "metadata": {
    "tags": []
   },
   "outputs": [],
   "source": [
    "lines2 = []\n",
    "Confidence2=[]\n",
    "for block in response2['Blocks']:\n",
    "    if block['BlockType'] == 'LINE':\n",
    "        lines2.append(block['Text'])\n",
    "        Confidence2.append(block['Confidence'])"
   ]
  },
  {
   "cell_type": "code",
   "execution_count": 36,
   "id": "6fb92ff0-710c-4cc8-9c93-c5322f877ddd",
   "metadata": {
    "tags": []
   },
   "outputs": [],
   "source": [
    "lines3 = []\n",
    "Confidence3=[]\n",
    "for block in response3['Blocks']:\n",
    "    if block['BlockType'] == 'LINE':\n",
    "        lines3.append(block['Text'])\n",
    "        Confidence3.append(block['Confidence'])"
   ]
  },
  {
   "cell_type": "code",
   "execution_count": 37,
   "id": "428dda50-0ea3-4198-9bc1-184164779d8b",
   "metadata": {
    "tags": []
   },
   "outputs": [],
   "source": [
    "lines4 = []\n",
    "Confidence4=[]\n",
    "for block in response4['Blocks']:\n",
    "    if block['BlockType'] == 'LINE':\n",
    "        lines4.append(block['Text'])\n",
    "        Confidence4.append(block['Confidence'])"
   ]
  },
  {
   "cell_type": "code",
   "execution_count": 38,
   "id": "fa683ee4-d092-4d91-8b66-9102d2e1126b",
   "metadata": {
    "tags": []
   },
   "outputs": [],
   "source": [
    "lines5 = []\n",
    "Confidence5=[]\n",
    "for block in response5['Blocks']:\n",
    "    if block['BlockType'] == 'LINE':\n",
    "        lines5.append(block['Text'])\n",
    "        Confidence5.append(block['Confidence'])"
   ]
  },
  {
   "cell_type": "code",
   "execution_count": 39,
   "id": "4351b9f7-6efd-42b9-b94e-b351007f4549",
   "metadata": {
    "tags": []
   },
   "outputs": [],
   "source": [
    "lines6 = []\n",
    "Confidence6=[]\n",
    "for block in response6['Blocks']:\n",
    "    if block['BlockType'] == 'LINE':\n",
    "        lines6.append(block['Text'])\n",
    "        Confidence6.append(block['Confidence'])"
   ]
  },
  {
   "cell_type": "markdown",
   "id": "2ad0838c-124f-470d-89f4-7f3eddf55411",
   "metadata": {},
   "source": [
    "Conbine all the lines and Confidence score "
   ]
  },
  {
   "cell_type": "code",
   "execution_count": 72,
   "id": "fbeb1e11-de15-4f89-a23e-13c986f13c06",
   "metadata": {
    "tags": []
   },
   "outputs": [],
   "source": [
    "linestotal=lines+lines2+lines3+lines4+lines5+lines6\n",
    "Confidencetotal=Confidence+Confidence2+Confidence3+Confidence4+Confidence5+Confidence6"
   ]
  },
  {
   "cell_type": "code",
   "execution_count": 79,
   "id": "6685b9c6-319a-48e2-a593-a32998a4ae8b",
   "metadata": {
    "tags": []
   },
   "outputs": [
    {
     "name": "stdout",
     "output_type": "stream",
     "text": [
      "98.94328420959378\n"
     ]
    }
   ],
   "source": [
    "#average confidence score \n",
    "avg = sum(Confidencetotal) / len(Confidencetotal)\n",
    "print(avg)"
   ]
  },
  {
   "cell_type": "markdown",
   "id": "cf2a174d-34d7-4e6f-9006-c6c8e1584d8e",
   "metadata": {},
   "source": [
    "Originally we wanted to filtering for handwriting, but some handwritings creates spaces and Textract recognized them as two lines, which breaks the increments of lines (theoratically for every 28 lines), so we decided to locate the each spcific word \"fox\" which retunrs both the example senetnce and the handwriting sentence "
   ]
  },
  {
   "cell_type": "code",
   "execution_count": 56,
   "id": "1ca6b73c-ccea-4715-9af2-99c2ec4d5cb3",
   "metadata": {
    "tags": []
   },
   "outputs": [
    {
     "name": "stdout",
     "output_type": "stream",
     "text": [
      "['The quick brown fox jumps over the lazy dog.', 'Thequick brown fox jumps over the lazy day.', 'The quick brown fox jumps over the lazy dog.', 'The quick brown fox jumps over the lazy dog.', 'The quick brown fox jumps over the lazy dog.', 'The quick brown fox jumps over the lazy dog.', 'The quick brown fox jumps over the lazy dog.', 'The quick brown fox jumps over the lazy dog.', 'The quick brown fox jumps our the', 'The quick brown fox jumps over the lazy dog.', 'The quick brown fox jumps over the lazy dog.', 'The quick brown fox jumps over the lazy dog.', 'The quick brown fox jumps over the', 'The quick brown fox jumps over the lazy dog.', 'The quick brown fox jumps over the lazy dog.', 'The quick brown fox jumps over the lazy dog.', 'The quick brown fox jumps over the lazy dog.', 'The quick brown fox jumps over the lazy dog.', 'The quick brown fox jumps over the lazy dog.', 'The quick brown fox jumps over the lazy dog.', 'The quick brown fox jumps over the lazy dog.', 'The quick brown fox jumps over the lazy dog.', 'The quick brown fox Jumps over tle lazy dog.', 'The quick brown fox jumps over the lazy dog.', 'The quick brown fox jumps over the lazy', 'The quick brown fox jumps over the lazy dog.', 'The quick brown fox jumps over the lazy dog.', 'The quick brown fox jumps over the lazy dog.', 'The quick brown fox jumps over the lazy dog.', 'The quick brown fox jumps over the', 'The quick brown fox jumps over the lazy dog.', 'The quick brown fox jumps over the', 'The quick brown fox jumps over the lazy dog.', 'The quick brown fox jumps over the lazy dog.', 'The quick brown fox jumps over the lazy dog.', 'The quick brown fox jumps over the lazy dog.', 'The quick brown fox jumps over the lazy dog.', 'The quick brown fox jumps over the lazy dog.', 'The quick brown fox jumps over the lazy dog.', 'The quick brown fox jumps over the lazy dog.', 'The quick brown fox jumps over the lazy dog.', 'The quick brown fox jumps over the lazy dog.', 'The quick brown fox jumps over the lazy dog.', 'The quick brown fox jumps over the lazy dog.', 'The quick brown fox jumps over the lazy dog.', 'The quick brown fox jumps over the lazy dog.', 'The quick brown fox jumps over the lazy dog.', 'The quick brown fox jumps over the lazy dog.', 'The quick brown fox jumps over the lazy dog.', 'The quick brown fox jumps over the lazy dog.', 'The quick brown fox jumps over the lazy dog.', 'The quick brown fox jumps over the lazy dog.', 'The quick brown fox jumps over the lazy dog.', 'The quick brown fox jumps over the lazy dog.', 'The quick brown fox jumps over the lazy dog.', 'The quick brown fox jumps over the lazy dog.', 'The quick brown fox jumps over the lazy dog.', 'The quick brown fox jumps over the lazy dog.', 'The quick brown fox jumps over the lazy dog.', 'The quick brown fox jumps over the lazy dog.', 'The quick brown fox jumps over the lazy dog.', 'The quick brown fox jumps over the lazy dog.', 'The quick brown fox jumps over the lazy dog.', 'The quick brown fox jumps over the lazy dog.']\n"
     ]
    }
   ],
   "source": [
    "def contains_sentence(string):\n",
    "    return 'fox' in string\n",
    "\n",
    "# Filter list using filter() function\n",
    "filtered_list = list(filter(contains_sentence, linestotal))\n",
    "\n",
    "print(filtered_list)"
   ]
  },
  {
   "cell_type": "markdown",
   "id": "379cc8e9-fa8f-4f26-a060-d601816605f7",
   "metadata": {},
   "source": [
    "And the from there we filter for every other senetnce to get only the handwirting part"
   ]
  },
  {
   "cell_type": "code",
   "execution_count": 57,
   "id": "971d811e-61de-4c75-84de-f88c51634e5f",
   "metadata": {
    "tags": []
   },
   "outputs": [
    {
     "name": "stdout",
     "output_type": "stream",
     "text": [
      "['Thequick brown fox jumps over the lazy day.', 'The quick brown fox jumps over the lazy dog.', 'The quick brown fox jumps over the lazy dog.', 'The quick brown fox jumps over the lazy dog.', 'The quick brown fox jumps over the lazy dog.', 'The quick brown fox jumps over the lazy dog.', 'The quick brown fox jumps over the lazy dog.', 'The quick brown fox jumps over the lazy dog.', 'The quick brown fox jumps over the lazy dog.', 'The quick brown fox jumps over the lazy dog.', 'The quick brown fox jumps over the lazy dog.', 'The quick brown fox jumps over the lazy dog.', 'The quick brown fox jumps over the lazy dog.', 'The quick brown fox jumps over the lazy dog.', 'The quick brown fox jumps over the', 'The quick brown fox jumps over the', 'The quick brown fox jumps over the lazy dog.', 'The quick brown fox jumps over the lazy dog.', 'The quick brown fox jumps over the lazy dog.', 'The quick brown fox jumps over the lazy dog.', 'The quick brown fox jumps over the lazy dog.', 'The quick brown fox jumps over the lazy dog.', 'The quick brown fox jumps over the lazy dog.', 'The quick brown fox jumps over the lazy dog.', 'The quick brown fox jumps over the lazy dog.', 'The quick brown fox jumps over the lazy dog.', 'The quick brown fox jumps over the lazy dog.', 'The quick brown fox jumps over the lazy dog.', 'The quick brown fox jumps over the lazy dog.', 'The quick brown fox jumps over the lazy dog.', 'The quick brown fox jumps over the lazy dog.', 'The quick brown fox jumps over the lazy dog.']\n"
     ]
    }
   ],
   "source": [
    "writting_result = filtered_list[1::2]\n",
    "print(writting_result)"
   ]
  },
  {
   "cell_type": "markdown",
   "id": "00467a6e-b4da-403b-ae7c-05c3b96f8e6a",
   "metadata": {},
   "source": [
    "Finally we can check for sentences that didnt perfectly match by comparing to the sample sentence."
   ]
  },
  {
   "cell_type": "code",
   "execution_count": 58,
   "id": "668476b1-7055-4532-a5b4-e82119319177",
   "metadata": {
    "tags": []
   },
   "outputs": [
    {
     "name": "stdout",
     "output_type": "stream",
     "text": [
      "Thequick brown fox jumps over the lazy day. does not match the sample sentence.\n",
      "The quick brown fox jumps over the does not match the sample sentence.\n",
      "The quick brown fox jumps over the does not match the sample sentence.\n"
     ]
    }
   ],
   "source": [
    "correct_rate=0\n",
    "sample_sentence = \"The quick brown fox jumps over the lazy dog.\"\n",
    "# Loop through the sentences in the list\n",
    "for sentence in writting_result:\n",
    "    # Compare the sample sentence with the current sentence in the loop\n",
    "    if sentence == sample_sentence:\n",
    "        correct_rate=correct_rate+1\n",
    "    else:\n",
    "        print(f\"{sentence} does not match the sample sentence.\")      "
   ]
  },
  {
   "cell_type": "markdown",
   "id": "c4f84f43-3f14-43d4-be06-495a9ea6815e",
   "metadata": {},
   "source": [
    "And then we wanted to fectch the names. In order to do so and avoid the index problem mentioned before, we look for the index one line before the signature (which is fixed), and return the names "
   ]
  },
  {
   "cell_type": "code",
   "execution_count": 64,
   "id": "80d8e1f0-f7ef-4a7e-9628-564b59e3db78",
   "metadata": {
    "tags": []
   },
   "outputs": [
    {
     "name": "stdout",
     "output_type": "stream",
     "text": [
      "[9, 23, 37, 51, 66, 80, 95, 109, 123, 137, 151, 165, 179, 194, 224, 238, 252, 268, 284, 297, 309, 321, 333, 345, 357, 369, 381, 393, 405, 417, 429, 441, 453, 465, 477, 489, 501, 513, 525, 537, 549, 561, 573, 585, 597, 609, 621, 633, 645]\n"
     ]
    }
   ],
   "source": [
    "name_indices = [i for i, s in enumerate(linestotal) if s == \"(ex. Saaya Morton, College 2023)\"]\n",
    "print(name_indices)"
   ]
  },
  {
   "cell_type": "code",
   "execution_count": 67,
   "id": "c7072f9f-9bc9-4d24-b049-f3154a0b09d2",
   "metadata": {
    "tags": []
   },
   "outputs": [
    {
     "name": "stdout",
     "output_type": "stream",
     "text": [
      "['Felik Yang,BBA+QSS 2026', 'Sean Hong, Emany University, QSS wl Bio, 2024', 'Rosemary Tran, Emons, Biology, 2023', 'Christina Ni, College 2023', 'James Park, QSS 2025', 'Nathan Yoo, QSS Emony 2024', 'NGUYEN HO , Marketing, 2024', 'Jerry Hong, QSS/Econ, College 2024', 'Kingrong Chen , Chemistry, 2024', 'Rawj Lade, Economics, 2024', 'Artom Linde ECONESAMS 2025', 'Mason Wang. Applied Math, CS/ECON, 2025', 'Andrey Bu, Emary Math & QSS. 2025', 'Alina chen', 'liheng Xu college HMS', 'Thank you again for your participation.', 'Ore Adenitinju, Emovy College/Computer', 'Joseph Lee, College', 'David Smith, College/ English 2024', 'Thank you again for your participation.', 'Thank you again for your participation.', 'Thank you again for your participation.', 'Thank you again for your participation.', 'Thank you again for your participation.', 'Thank you again for your participation.', 'Thank you again for your participation.', 'Thank you again for your participation.', 'Thank you again for your participation.', 'Thank you again for your participation.', 'Thank you again for your participation.', 'Thank you again for your participation.', 'Thank you again for your participation.', 'Thank you again for your participation.', 'Thank you again for your participation.', 'Thank you again for your participation.', 'Thank you again for your participation.', 'Thank you again for your participation.', 'Thank you again for your participation.', 'Thank you again for your participation.', 'Thank you again for your participation.', 'Thank you again for your participation.', 'Thank you again for your participation.', 'Thank you again for your participation.', 'Thank you again for your participation.', 'Thank you again for your participation.', 'Thank you again for your participation.', 'Thank you again for your participation.', 'Thank you again for your participation.', 'Thank you again for your participation.']\n"
     ]
    }
   ],
   "source": [
    "name = [linestotal[i+1] for i in name_indices]\n",
    "print(name)"
   ]
  },
  {
   "cell_type": "code",
   "execution_count": 81,
   "id": "d26f0497-b53f-4fff-bdea-913bf1ea351c",
   "metadata": {
    "tags": []
   },
   "outputs": [
    {
     "data": {
      "text/html": [
       "<div>\n",
       "<style scoped>\n",
       "    .dataframe tbody tr th:only-of-type {\n",
       "        vertical-align: middle;\n",
       "    }\n",
       "\n",
       "    .dataframe tbody tr th {\n",
       "        vertical-align: top;\n",
       "    }\n",
       "\n",
       "    .dataframe thead th {\n",
       "        text-align: right;\n",
       "    }\n",
       "</style>\n",
       "<table border=\"1\" class=\"dataframe\">\n",
       "  <thead>\n",
       "    <tr style=\"text-align: right;\">\n",
       "      <th></th>\n",
       "      <th>0</th>\n",
       "    </tr>\n",
       "  </thead>\n",
       "  <tbody>\n",
       "    <tr>\n",
       "      <th>0</th>\n",
       "      <td>Felik Yang,BBA+QSS 2026</td>\n",
       "    </tr>\n",
       "    <tr>\n",
       "      <th>1</th>\n",
       "      <td>Sean Hong, Emany University, QSS wl Bio, 2024</td>\n",
       "    </tr>\n",
       "    <tr>\n",
       "      <th>2</th>\n",
       "      <td>Rosemary Tran, Emons, Biology, 2023</td>\n",
       "    </tr>\n",
       "    <tr>\n",
       "      <th>3</th>\n",
       "      <td>Christina Ni, College 2023</td>\n",
       "    </tr>\n",
       "    <tr>\n",
       "      <th>4</th>\n",
       "      <td>James Park, QSS 2025</td>\n",
       "    </tr>\n",
       "    <tr>\n",
       "      <th>5</th>\n",
       "      <td>Nathan Yoo, QSS Emony 2024</td>\n",
       "    </tr>\n",
       "    <tr>\n",
       "      <th>6</th>\n",
       "      <td>NGUYEN HO , Marketing, 2024</td>\n",
       "    </tr>\n",
       "    <tr>\n",
       "      <th>7</th>\n",
       "      <td>Jerry Hong, QSS/Econ, College 2024</td>\n",
       "    </tr>\n",
       "    <tr>\n",
       "      <th>8</th>\n",
       "      <td>Kingrong Chen , Chemistry, 2024</td>\n",
       "    </tr>\n",
       "    <tr>\n",
       "      <th>9</th>\n",
       "      <td>Rawj Lade, Economics, 2024</td>\n",
       "    </tr>\n",
       "    <tr>\n",
       "      <th>10</th>\n",
       "      <td>Artom Linde ECONESAMS 2025</td>\n",
       "    </tr>\n",
       "    <tr>\n",
       "      <th>11</th>\n",
       "      <td>Mason Wang. Applied Math, CS/ECON, 2025</td>\n",
       "    </tr>\n",
       "    <tr>\n",
       "      <th>12</th>\n",
       "      <td>Andrey Bu, Emary Math &amp; QSS. 2025</td>\n",
       "    </tr>\n",
       "    <tr>\n",
       "      <th>13</th>\n",
       "      <td>Alina chen</td>\n",
       "    </tr>\n",
       "    <tr>\n",
       "      <th>14</th>\n",
       "      <td>liheng Xu college HMS</td>\n",
       "    </tr>\n",
       "    <tr>\n",
       "      <th>15</th>\n",
       "      <td>Thank you again for your participation.</td>\n",
       "    </tr>\n",
       "    <tr>\n",
       "      <th>16</th>\n",
       "      <td>Ore Adenitinju, Emovy College/Computer</td>\n",
       "    </tr>\n",
       "    <tr>\n",
       "      <th>17</th>\n",
       "      <td>Joseph Lee, College</td>\n",
       "    </tr>\n",
       "    <tr>\n",
       "      <th>18</th>\n",
       "      <td>David Smith, College/ English 2024</td>\n",
       "    </tr>\n",
       "  </tbody>\n",
       "</table>\n",
       "</div>"
      ],
      "text/plain": [
       "                                                0\n",
       "0                         Felik Yang,BBA+QSS 2026\n",
       "1   Sean Hong, Emany University, QSS wl Bio, 2024\n",
       "2             Rosemary Tran, Emons, Biology, 2023\n",
       "3                      Christina Ni, College 2023\n",
       "4                            James Park, QSS 2025\n",
       "5                      Nathan Yoo, QSS Emony 2024\n",
       "6                     NGUYEN HO , Marketing, 2024\n",
       "7              Jerry Hong, QSS/Econ, College 2024\n",
       "8                 Kingrong Chen , Chemistry, 2024\n",
       "9                      Rawj Lade, Economics, 2024\n",
       "10                     Artom Linde ECONESAMS 2025\n",
       "11        Mason Wang. Applied Math, CS/ECON, 2025\n",
       "12              Andrey Bu, Emary Math & QSS. 2025\n",
       "13                                     Alina chen\n",
       "14                          liheng Xu college HMS\n",
       "15        Thank you again for your participation.\n",
       "16         Ore Adenitinju, Emovy College/Computer\n",
       "17                            Joseph Lee, College\n",
       "18             David Smith, College/ English 2024"
      ]
     },
     "execution_count": 81,
     "metadata": {},
     "output_type": "execute_result"
    }
   ],
   "source": [
    "import pandas as pd\n",
    "df = pd.DataFrame(name)\n",
    "df[0:19]"
   ]
  },
  {
   "cell_type": "code",
   "execution_count": 6,
   "id": "9453e0f0-3be1-4951-b420-5eb9b67d4ce9",
   "metadata": {
    "tags": []
   },
   "outputs": [
    {
     "data": {
      "text/plain": [
       "{'JobId': '10303a9396a34f1564ea1f570ffc7a93da639b4f194d2dfe80dd6feaeb255f72',\n",
       " 'ResponseMetadata': {'RequestId': '15020f0a-23a2-4493-9596-4d4ee2e8debc',\n",
       "  'HTTPStatusCode': 200,\n",
       "  'HTTPHeaders': {'x-amzn-requestid': '15020f0a-23a2-4493-9596-4d4ee2e8debc',\n",
       "   'content-type': 'application/x-amz-json-1.1',\n",
       "   'content-length': '76',\n",
       "   'date': 'Tue, 18 Apr 2023 19:03:55 GMT'},\n",
       "  'RetryAttempts': 0}}"
      ]
     },
     "execution_count": 6,
     "metadata": {},
     "output_type": "execute_result"
    }
   ],
   "source": [
    "response3"
   ]
  },
  {
   "cell_type": "code",
   "execution_count": 14,
   "id": "9d1ed58f-a79d-4c16-9a80-8c99046d6b9f",
   "metadata": {},
   "outputs": [],
   "source": [
    "# # Loop through the results and retrieve all pages\n",
    "# pages = []\n",
    "# next_token = response3.get('NextToken', None)\n",
    "\n",
    "# while True:\n",
    "#     if next_token:\n",
    "#         response3 = textract.get_document_text_detection(JobId='10303a9396a34f1564ea1f570ffc7a93da639b4f194d2dfe80dd6feaeb255f72', NextToken=next_token)\n",
    "#     else:\n",
    "#         response3 = textract.get_document_text_detection(JobId='10303a9396a34f1564ea1f570ffc7a93da639b4f194d2dfe80dd6feaeb255f72')"
   ]
  },
  {
   "cell_type": "code",
   "execution_count": null,
   "id": "0d13f2c3-fb8d-4bda-b3bf-e642fb2be45c",
   "metadata": {},
   "outputs": [],
   "source": [
    "handwriting_blocks"
   ]
  },
  {
   "cell_type": "code",
   "execution_count": null,
   "id": "044afde7-6cf7-4b5e-87cb-8d8d1d624e23",
   "metadata": {},
   "outputs": [],
   "source": []
  }
 ],
 "metadata": {
  "instance_type": "ml.t3.medium",
  "kernelspec": {
   "display_name": "Python 3 (Data Science)",
   "language": "python",
   "name": "python3__SAGEMAKER_INTERNAL__arn:aws:sagemaker:us-east-1:081325390199:image/datascience-1.0"
  },
  "language_info": {
   "codemirror_mode": {
    "name": "ipython",
    "version": 3
   },
   "file_extension": ".py",
   "mimetype": "text/x-python",
   "name": "python",
   "nbconvert_exporter": "python",
   "pygments_lexer": "ipython3",
   "version": "3.7.10"
  }
 },
 "nbformat": 4,
 "nbformat_minor": 5
}
